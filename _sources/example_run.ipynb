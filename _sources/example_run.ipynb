{
 "cells": [
  {
   "cell_type": "markdown",
   "id": "dc9c09ce-7fd1-49f2-a161-954802b3b45f",
   "metadata": {},
   "source": [
    "<p style=\"width:100%;color:#B71C1C;font-size:28px;text-align:justify\"> Calculation of melting temperature </p> "
   ]
  },
  {
   "cell_type": "markdown",
   "id": "a909c458-e6e5-4db1-9a19-c4135d027067",
   "metadata": {},
   "source": [
    "In this notebook, we will use interatomic potentials for the calculation of thermodynamic properties such as Helmholtz and Gibbs free energies, which in turn can be used for the calculation of phase diagrams. We will discuss calphy, the tool for automated calculation of free energies, and the methology involved. As a first step, we will calculate the melting temperature of Copper. A brief introduction to the tools."
   ]
  },
  {
   "cell_type": "markdown",
   "id": "6b21097a-30a8-4ce1-b174-37c276bfefb8",
   "metadata": {},
   "source": [
    "<table border=\"0\">\n",
    " <tr>\n",
    "    <td style=\"width:60%\"> <p style=\"width:100% color:gray;font-size:24px;text-align:right\"> <a href=\"https://github.com/pyiron/pyiron_atomistics\">pyiron-atomistics</a> provides integrations for atomistics tools enabling seamless cross-code workflows from jupyter notebooks.</p> </td>\n",
    "    <td style=\"width:40%\"><img src=\"img/logo.png\" width=\"50%\" align=\"justify\"></td>\n",
    "  </tr>\n",
    "</table>"
   ]
  },
  {
   "cell_type": "markdown",
   "id": "e33d4d65-c5e7-41b6-85e7-bdd335f2c70a",
   "metadata": {},
   "source": [
    "<table border=\"0\">\n",
    " <tr>\n",
    "    <td style=\"width:40%\"><img src=\"img/calphy_logo.png\" width=\"100%\" align=\"justify\"></td>\n",
    "    <td style=\"width:60%\"> <p style=\"width:100% color:gray;font-size:18px;text-align:justify\"> Calphy is a Python code for automated calculation of free energies. It enables calculation of Helmholtz and Gibbs free energy for both solid and liquid phases at the given thermodynamic conditions using automated protocols </p> </td>\n",
    " </tr>\n",
    "</table>"
   ]
  },
  {
   "cell_type": "markdown",
   "id": "c65f5681-5ead-443f-af5e-a38c94865d63",
   "metadata": {},
   "source": [
    "This notebook **runs** the calculations. If you would like to instead explore the results, please see notebook [`example_explore.ipynb`](example_explore.ipynb). "
   ]
  },
  {
   "cell_type": "code",
   "execution_count": 1,
   "id": "2521b915-5977-4cbe-bcd1-ac87611bdbd4",
   "metadata": {},
   "outputs": [],
   "source": [
    "import matplotlib.pyplot as plt\n",
    "import numpy as np"
   ]
  },
  {
   "cell_type": "code",
   "execution_count": 2,
   "id": "9b068f3b-1f95-4e05-a190-c65ef85942be",
   "metadata": {},
   "outputs": [],
   "source": [
    "from pyiron_atomistics import Project"
   ]
  },
  {
   "cell_type": "markdown",
   "id": "64ab200e-3ab7-48e8-91fe-510052a11f06",
   "metadata": {},
   "source": [
    "Create a project"
   ]
  },
  {
   "cell_type": "code",
   "execution_count": 3,
   "id": "4774efa4-150c-4702-90e9-cd1b2c1f8139",
   "metadata": {},
   "outputs": [],
   "source": [
    "pr = Project('melting_temperature')"
   ]
  },
  {
   "cell_type": "markdown",
   "id": "b7f7d4cc-8769-4e21-9e5a-58a56aee8d20",
   "metadata": {},
   "source": [
    "First create an FCC structure"
   ]
  },
  {
   "cell_type": "code",
   "execution_count": 4,
   "id": "98490a92-9e24-4db7-8b60-ad71c0ab196a",
   "metadata": {},
   "outputs": [],
   "source": [
    "structure = pr.create.structure.ase.bulk('Cu', cubic=True).repeat(4)"
   ]
  },
  {
   "cell_type": "markdown",
   "id": "c5248515-74ca-4fba-9e24-13dd87908d73",
   "metadata": {},
   "source": [
    "Now we will calculate the free energy of the solid structure. The experimental melting temperature is 1358 K, so we will choose the range of 1200-1500 K for calculating the free energy for solid and liquid structures. First the solid structure."
   ]
  },
  {
   "cell_type": "code",
   "execution_count": 5,
   "id": "30a8934b-647f-4c39-8bf8-33e83f76485b",
   "metadata": {},
   "outputs": [],
   "source": [
    "sol = pr.create.job.Calphy(\"tm_cu_sol\")\n",
    "sol.structure = structure\n",
    "sol.potential = \"2001--Mishin-Y--Cu-1--LAMMPS--ipr1\""
   ]
  },
  {
   "cell_type": "markdown",
   "id": "fa080d99-6943-438a-867f-c5672824d834",
   "metadata": {},
   "source": [
    "The EAM potential we will use is : [Mishin, Y., M. J. Mehl, D. A. Papaconstantopoulos, A. F. Voter, and J. D. Kress. “Structural Stability and Lattice Defects in Copper: Ab Initio , Tight-Binding, and Embedded-Atom Calculations.” Physical Review B 63, no. 22 (May 21, 2001): 224106.](https://doi.org/10.1103/PhysRevB.63.224106)"
   ]
  },
  {
   "cell_type": "code",
   "execution_count": 6,
   "id": "302fcf8f-525e-4ff5-bc80-8fc63bacc303",
   "metadata": {},
   "outputs": [],
   "source": [
    "sol.server.cores = 2\n",
    "sol.calc_free_energy(temperature=[1200, 1500], \n",
    "                     pressure=0, \n",
    "                     reference_phase=\"solid\",\n",
    "                     n_equilibration_steps=5000,\n",
    "                     n_switching_steps=5000)"
   ]
  },
  {
   "cell_type": "markdown",
   "id": "e7372539-7c5b-47b5-b1f9-4cad2397cdea",
   "metadata": {},
   "source": [
    "Before we actually run the calculation, let us discuss the various parameters. `temperature` keyword gives the temperature range over which the free energy is to be calculated. `pressure` denotes the pressure of the calculation, we chose 0 in this case. Since we are using a solid FCC lattice, we set `reference_phase` to `\"solid\"`. This means that the Einstein crystal will be used as the reference system. Finally, we have `n_equilibration_steps` and `n_switching_steps`. `n_equilibration_steps` denotes the number of MD steps over which the system is equilibrated to the required temperature and pressure. `n_switching_steps` are the number of MD steps over which the system is continuously transformed between the given interatomic potential, and the reference Einstein crystal."
   ]
  },
  {
   "cell_type": "markdown",
   "id": "6d85f56b-9f43-424e-8545-062a6cd5f370",
   "metadata": {},
   "source": [
    "Now we run the job"
   ]
  },
  {
   "cell_type": "code",
   "execution_count": 7,
   "id": "a87d192f-b93c-4e4e-ab37-533c2027023d",
   "metadata": {},
   "outputs": [
    {
     "name": "stdout",
     "output_type": "stream",
     "text": [
      "The job tm_cu_sol was saved and received the ID: 203\n"
     ]
    }
   ],
   "source": [
    "sol.run()"
   ]
  },
  {
   "cell_type": "markdown",
   "id": "ef4be16e-7482-47a9-967d-2e7af7c126b6",
   "metadata": {},
   "source": [
    "Now we run the calculation for the liquid system"
   ]
  },
  {
   "cell_type": "code",
   "execution_count": 8,
   "id": "8dcc441d-a67c-499d-a3ad-2cc3f2fd6010",
   "metadata": {},
   "outputs": [],
   "source": [
    "lqd = pr.create.job.Calphy(\"tm_cu_lqd\")\n",
    "lqd.structure = structure\n",
    "lqd.potential = \"2001--Mishin-Y--Cu-1--LAMMPS--ipr1\"\n",
    "lqd.server.cores = 2\n",
    "lqd.calc_free_energy(temperature=[1200, 1500], \n",
    "                     pressure=0, \n",
    "                     reference_phase=\"liquid\",\n",
    "                     n_equilibration_steps=5000,\n",
    "                     n_switching_steps=5000)"
   ]
  },
  {
   "cell_type": "code",
   "execution_count": 9,
   "id": "1404d083-4157-4c1c-b85a-1e6e07a2e688",
   "metadata": {},
   "outputs": [
    {
     "name": "stdout",
     "output_type": "stream",
     "text": [
      "The job tm_cu_lqd was saved and received the ID: 204\n"
     ]
    }
   ],
   "source": [
    "lqd.run()"
   ]
  },
  {
   "cell_type": "markdown",
   "id": "2742178b-a8b0-43fb-93f9-dd80e8f53767",
   "metadata": {},
   "source": [
    "Now we look at the results"
   ]
  },
  {
   "cell_type": "code",
   "execution_count": 10,
   "id": "f7cb34fd-103b-43eb-9986-5490cdd94326",
   "metadata": {},
   "outputs": [
    {
     "data": {
      "image/png": "[encoded data removed]",
      "text/plain": [
       "<Figure size 432x288 with 1 Axes>"
      ]
     },
     "metadata": {
      "needs_background": "light"
     },
     "output_type": "display_data"
    }
   ],
   "source": [
    "plt.plot(sol.output.temperature, sol.output.energy_free,\n",
    "        label=\"Cu solid\", color='#C62828')\n",
    "plt.plot(lqd.output.temperature, lqd.output.energy_free,\n",
    "        label=\"Cu liquid\", color='#006899')\n",
    "plt.xlabel(\"Temperature (K)\")\n",
    "plt.ylabel(\"Free energy (eV/K)\")\n",
    "plt.legend();"
   ]
  },
  {
   "cell_type": "markdown",
   "id": "ee98d119-e541-4d84-b422-7b4784647dfd",
   "metadata": {},
   "source": [
    "The melting temperature is defined as the temperature at which the free energy difference between the solid and liquid phases is zero. We can also plot the free energy difference directly."
   ]
  },
  {
   "cell_type": "code",
   "execution_count": 11,
   "id": "d9818310-bdec-465c-b157-3e6de1d13be7",
   "metadata": {},
   "outputs": [],
   "source": [
    "fediff = sol.output.energy_free - lqd.output.energy_free"
   ]
  },
  {
   "cell_type": "markdown",
   "id": "9a0ab9d3-8afb-45b1-805c-52252b6707ba",
   "metadata": {},
   "source": [
    "Find where the value is zero and get the corresponding temperature"
   ]
  },
  {
   "cell_type": "code",
   "execution_count": 12,
   "id": "57533b3f-23e3-4699-998c-98edca176a11",
   "metadata": {},
   "outputs": [
    {
     "data": {
      "text/plain": [
       "1281.722635221738"
      ]
     },
     "execution_count": 12,
     "metadata": {},
     "output_type": "execute_result"
    }
   ],
   "source": [
    "arg = np.argsort(np.abs(fediff))[0]\n",
    "tm = sol.output.temperature[arg]\n",
    "tm"
   ]
  },
  {
   "cell_type": "markdown",
   "id": "3ebaa6d2-fcd1-4954-a723-36861c57e41b",
   "metadata": {},
   "source": [
    "The calculated melting temperature is shown above."
   ]
  },
  {
   "cell_type": "code",
   "execution_count": 13,
   "id": "5c92d763-15d5-4791-b6df-90beb09621a2",
   "metadata": {},
   "outputs": [
    {
     "data": {
      "image/png": "[encoded data removed]",
      "text/plain": [
       "<Figure size 432x288 with 1 Axes>"
      ]
     },
     "metadata": {
      "needs_background": "light"
     },
     "output_type": "display_data"
    }
   ],
   "source": [
    "plt.plot(sol.output.temperature, sol.output.energy_free,\n",
    "        label=\"Cu solid\", color='#C62828')\n",
    "plt.plot(lqd.output.temperature, lqd.output.energy_free,\n",
    "        label=\"Cu liquid\", color='#006899')\n",
    "plt.axvline(tm, color=\"black\")\n",
    "plt.xlabel(\"Temperature (K)\")\n",
    "plt.ylabel(\"Free energy (eV/K)\")\n",
    "plt.legend();"
   ]
  },
  {
   "cell_type": "code",
   "execution_count": 14,
   "id": "27ada9f6-b544-45e4-bae4-186b0aff71fa",
   "metadata": {},
   "outputs": [
    {
     "data": {
      "image/png": "[encoded data removed]",
      "text/plain": [
       "<Figure size 432x288 with 1 Axes>"
      ]
     },
     "metadata": {
      "needs_background": "light"
     },
     "output_type": "display_data"
    }
   ],
   "source": [
    "plt.plot(sol.output.temperature, fediff,\n",
    "        label=r\"$\\Delta F$\", color='#C62828')\n",
    "plt.axhline(0, color=\"gray\")\n",
    "plt.axvline(tm, color=\"black\")\n",
    "plt.xlabel(\"Temperature (K)\")\n",
    "plt.ylabel(\"Free energy (eV/K)\")\n",
    "plt.legend();"
   ]
  },
  {
   "cell_type": "code",
   "execution_count": 5,
   "id": "99a0824c-5edf-431a-b798-3190d0342c4c",
   "metadata": {},
   "outputs": [],
   "source": [
    "pr.pack(destination_path=\"pyiron/calculation/save\")"
   ]
  },
  {
   "cell_type": "code",
   "execution_count": null,
   "id": "3acc84d0-dd88-439d-8e1a-d847cce74805",
   "metadata": {},
   "outputs": [],
   "source": []
  }
 ],
 "metadata": {
  "kernelspec": {
   "display_name": "Python 3 (ipykernel)",
   "language": "python",
   "name": "python3"
  },
  "language_info": {
   "codemirror_mode": {
    "name": "ipython",
    "version": 3
   },
   "file_extension": ".py",
   "mimetype": "text/x-python",
   "name": "python",
   "nbconvert_exporter": "python",
   "pygments_lexer": "ipython3",
   "version": "3.10.5"
  }
 },
 "nbformat": 4,
 "nbformat_minor": 5
}
